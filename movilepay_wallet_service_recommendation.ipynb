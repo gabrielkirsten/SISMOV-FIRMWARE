{
  "nbformat": 4,
  "nbformat_minor": 0,
  "metadata": {
    "colab": {
      "name": "movilepay-wallet-service-recommendation",
      "provenance": [],
      "collapsed_sections": [],
      "authorship_tag": "ABX9TyPnDH5HnUfZnY6G3UczWHMm",
      "include_colab_link": true
    },
    "kernelspec": {
      "name": "python3",
      "display_name": "Python 3"
    }
  },
  "cells": [
    {
      "cell_type": "markdown",
      "metadata": {
        "id": "view-in-github",
        "colab_type": "text"
      },
      "source": [
        "<a href=\"https://colab.research.google.com/github/gabrielkirsten/SISMOV-FIRMWARE/blob/master/movilepay_wallet_service_recommendation.ipynb\" target=\"_parent\"><img src=\"https://colab.research.google.com/assets/colab-badge.svg\" alt=\"Open In Colab\"/></a>"
      ]
    },
    {
      "cell_type": "markdown",
      "metadata": {
        "id": "4lkRW3mUkgX8",
        "colab_type": "text"
      },
      "source": [
        "# MovilePay Wallet Service Recomendation\n",
        "\n",
        "Esse serviço é responsável por inferir serviços recomendados a partir de dados\n",
        "obtidos pela utilização da plataforma de Wallet. "
      ]
    },
    {
      "cell_type": "markdown",
      "metadata": {
        "id": "P9YLoChNkhlW",
        "colab_type": "text"
      },
      "source": [
        "### Generate sample data\n"
      ]
    },
    {
      "cell_type": "code",
      "metadata": {
        "id": "BE6Vm6lai9yo",
        "colab_type": "code",
        "colab": {}
      },
      "source": [
        "import numpy as np\n",
        "from sklearn.datasets import make_blobs\n",
        "\n",
        "n_samples = 1500\n",
        "random_state = 170\n",
        "X, y = make_blobs(n_samples=n_samples, random_state=0, centers=2, n_features=2)"
      ],
      "execution_count": 0,
      "outputs": []
    },
    {
      "cell_type": "markdown",
      "metadata": {
        "id": "ltvUvcjhu3-Y",
        "colab_type": "text"
      },
      "source": [
        "Mouth revenue | Total Sales     | Classe\n",
        "-----------   | --------------- | --------------\n",
        "999.1023      | 1.01293         | Loan\n",
        "0.123123      | 0.00023         | Bill Payment\n",
        "0.123123      | 1.01293         | Bill Payment\n",
        "100.1123      | 1.75675         | Same Wallet Service\n",
        "0.123123      | 1.01293         | Bill Payment\n",
        "0.123123      | 1.01293         | Same Wallet Service\n",
        "0.123123      | 1.01293         | Bill Payment\n",
        "0.112399      | 999.102         | Bill Payment\n",
        "0.123123      | 1.01293         | Same Wallet Service\n",
        "0.889055      | 1.01293         | Same Wallet Service\n",
        "0.123123      | 1.01293         | Loan\n",
        "0.123123      | 0.00013         | Same Wallet Service\n",
        "0.000123      | 1.01293         | Bill Payment\n",
        "0.123123      | 1.01293         | Bill Payment\n",
        "0.123123      | 1.23422         | Same Wallet Service\n",
        "999.1023      | 1.01293         | Bill Payment\n",
        "0.123123      | 1.01293         | Bill Payment\n",
        "0.123123      | 1.00000         | Same Wallet Service\n",
        "0.000123      | 1.01293         | Loan\n",
        "0.123123      | 1.01293         | Loan\n",
        "999.1023      | 1.01293         | Bill Payment"
      ]
    },
    {
      "cell_type": "markdown",
      "metadata": {
        "id": "03Fu4xTQlDSL",
        "colab_type": "text"
      },
      "source": [
        "### Create a KMeans with Minibatch Model\n",
        "Vamos criar o nosso modelo que será responsável por resolver a nossa indicação"
      ]
    },
    {
      "cell_type": "code",
      "metadata": {
        "id": "LlT2-_YFnNk8",
        "colab_type": "code",
        "colab": {}
      },
      "source": [
        "from sklearn.linear_model import SGDClassifier\n",
        "\n",
        "model = SGDClassifier(alpha=0.001, max_iter=100)"
      ],
      "execution_count": 0,
      "outputs": []
    },
    {
      "cell_type": "markdown",
      "metadata": {
        "id": "vq2kEf6PoJQg",
        "colab_type": "text"
      },
      "source": [
        "## Train your model"
      ]
    },
    {
      "cell_type": "code",
      "metadata": {
        "id": "jHNn0g8toI-Y",
        "colab_type": "code",
        "colab": {}
      },
      "source": [
        "model = model.fit(X, y)"
      ],
      "execution_count": 0,
      "outputs": []
    },
    {
      "cell_type": "markdown",
      "metadata": {
        "id": "zX0vKH51pHL4",
        "colab_type": "text"
      },
      "source": [
        "### Create a Mesh to plot"
      ]
    },
    {
      "cell_type": "code",
      "metadata": {
        "id": "AWnJNu8mlT8d",
        "colab_type": "code",
        "colab": {}
      },
      "source": [
        "h = .02 \n",
        "x_min, x_max = X[:, 0].min() - 1, X[:, 0].max() + 1\n",
        "y_min, y_max = X[:, 1].min() - 1, X[:, 1].max() + 1\n",
        "xx, yy = np.meshgrid(np.arange(x_min, x_max, h),\n",
        "                     np.arange(y_min, y_max, h))\n",
        "\n",
        "Z = model.predict(np.c_[xx.ravel(), yy.ravel()])\n",
        "Z = Z.reshape(xx.shape)"
      ],
      "execution_count": 0,
      "outputs": []
    },
    {
      "cell_type": "markdown",
      "metadata": {
        "id": "tUBNYn9Yz8i7",
        "colab_type": "text"
      },
      "source": [
        ""
      ]
    },
    {
      "cell_type": "code",
      "metadata": {
        "id": "mIhA09kLz8xe",
        "colab_type": "code",
        "outputId": "fa01672a-c20e-4e04-9968-e2076d9a77f5",
        "colab": {
          "base_uri": "https://localhost:8080/",
          "height": 34
        }
      },
      "source": [
        "print(model.score(X, y))"
      ],
      "execution_count": 5,
      "outputs": [
        {
          "output_type": "stream",
          "text": [
            "0.968\n"
          ],
          "name": "stdout"
        }
      ]
    },
    {
      "cell_type": "markdown",
      "metadata": {
        "id": "40jpkeOEry8g",
        "colab_type": "text"
      },
      "source": [
        "Plot results"
      ]
    },
    {
      "cell_type": "code",
      "metadata": {
        "id": "8GaReG4BnMmx",
        "colab_type": "code",
        "outputId": "fbc3f8e5-11f7-48d7-de32-2084ab532deb",
        "colab": {
          "base_uri": "https://localhost:8080/",
          "height": 227
        }
      },
      "source": [
        "import matplotlib.pyplot as plt\n",
        "\n",
        "plt.figure(figsize=(9, 3))\n",
        "colors = \"br\"\n",
        "labels = [\"sim\", \"não\"]\n",
        "\n",
        "plt.subplot(131)\n",
        "\n",
        "cs = plt.contourf(xx, yy, Z, cmap=plt.cm.Paired)\n",
        "plt.axis('tight')\n",
        "\n",
        "for i, color in zip([0, 1], colors):\n",
        "    idx = np.where(y == i)\n",
        "    plt.scatter(X[idx, 0], \n",
        "                X[idx, 1],\n",
        "                c=color, \n",
        "                label=labels[i],\n",
        "                cmap=plt.cm.Paired, \n",
        "                edgecolor='black', \n",
        "                s=20)\n",
        "    \n",
        "plt.title(\"Decision surface of multi-class SGD\")\n",
        "plt.axis('tight')\n",
        "plt.legend()\n",
        "\n",
        "plt.subplot(132)\n",
        "\n",
        "cs = plt.contourf(xx, yy, Z, cmap=plt.cm.Paired)\n",
        "plt.axis('tight')\n",
        "\n",
        "for i, color in zip([0, 1], colors):\n",
        "    idx = np.where(model.predict(X) == i) # get all with \n",
        "    plt.scatter(X[idx, 0], \n",
        "                X[idx, 1],\n",
        "                c=color, \n",
        "                label=labels[i],\n",
        "                cmap=plt.cm.Paired, \n",
        "                edgecolor='black', \n",
        "                s=20)\n",
        "\n",
        "\n",
        "plt.legend()\n",
        "plt.show()"
      ],
      "execution_count": 6,
      "outputs": [
        {
          "output_type": "display_data",
          "data": {
            "image/png": "[encoded data removed]",
            "text/plain": [
              "<Figure size 648x216 with 2 Axes>"
            ]
          },
          "metadata": {
            "tags": []
          }
        }
      ]
    },
    {
      "cell_type": "code",
      "metadata": {
        "id": "jvJnangG1uQj",
        "colab_type": "code",
        "colab": {
          "base_uri": "https://localhost:8080/",
          "height": 285
        },
        "outputId": "70130be6-2061-4d14-e353-944d94e57437"
      },
      "source": [
        "data = np.array([[-0.05250608,  -0.59237301]])\n",
        "\n",
        "cs = plt.contourf(xx, yy, Z, cmap=plt.cm.Paired)\n",
        "plt.axis('tight')\n",
        "\n",
        "prediction = model.predict(data)[0]\n",
        "\n",
        "plt.scatter(data[0, 0], \n",
        "            data[0, 1],\n",
        "            c='w', \n",
        "            label=labels[prediction],\n",
        "            cmap=plt.cm.Paired, \n",
        "            edgecolor='black', \n",
        "            s=80)\n"
      ],
      "execution_count": 8,
      "outputs": [
        {
          "output_type": "execute_result",
          "data": {
            "text/plain": [
              "<matplotlib.collections.PathCollection at 0x7f41fdd1b8d0>"
            ]
          },
          "metadata": {
            "tags": []
          },
          "execution_count": 8
        },
        {
          "output_type": "display_data",
          "data": {
            "image/png": "[encoded data removed]",
            "text/plain": [
              "<Figure size 432x288 with 1 Axes>"
            ]
          },
          "metadata": {
            "tags": []
          }
        }
      ]
    }
  ]
}